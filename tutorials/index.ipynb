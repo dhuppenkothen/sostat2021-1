{
 "cells": [
  {
   "cell_type": "markdown",
   "metadata": {},
   "source": [
    "# SOSTAT 2021\n",
    "## 2nd IAA-CSIC Severo Ochoa School on Statistics, Data Mining, and Machine Learning\n",
    "\n",
    "### A Severo Ochoa School of the Instituto de Astrofísica de Andalucía (CSIC)\n",
    "-----\n",
    "\n",
    "### Workshop Tutorials\n",
    "\n",
    "- [Gentle Introduction and Basics](./tutorial01/ZIlecture1.ipynb)\n",
    "- [Introduction to ML; density estimation and regression](./tutorial01/ZIlecture2.ipynb)\n"
   ]
  }
 ],
 "metadata": {
  "kernelspec": {
   "display_name": "Python 3",
   "language": "python",
   "name": "python3"
  },
  "language_info": {
   "codemirror_mode": {
    "name": "ipython",
    "version": 3
   },
   "file_extension": ".py",
   "mimetype": "text/x-python",
   "name": "python",
   "nbconvert_exporter": "python",
   "pygments_lexer": "ipython3",
   "version": "3.7.4"
  }
 },
 "nbformat": 4,
 "nbformat_minor": 4
}
