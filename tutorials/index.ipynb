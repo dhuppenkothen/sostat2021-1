{
 "cells": [
  {
   "cell_type": "markdown",
   "id": "be45b380-2590-4371-81f7-e4a8215b1e6a",
   "metadata": {},
   "source": [
    "# SOSTAT2021\n",
    "## 2nd IAA-CSIC Severo Ochoa School on Statistics, Data Mining, and Machine Learning\n",
    "<HR>\n"
   ]
  },
  {
   "cell_type": "markdown",
   "id": "86c18148-e621-415b-b297-dbc6a6ad73c3",
   "metadata": {},
   "source": [
    "## A Severo Ochoa School of the Instituto de Astrofísica de Andalucía (CSIC)"
   ]
  },
  {
   "cell_type": "raw",
   "id": "8f1fedc8-c3ab-4bab-beb3-6dd45e56f45c",
   "metadata": {},
   "source": []
  }
 ],
 "metadata": {
  "kernelspec": {
   "display_name": "Python 3 (ipykernel)",
   "language": "python",
   "name": "python3"
  },
  "language_info": {
   "codemirror_mode": {
    "name": "ipython",
    "version": 3
   },
   "file_extension": ".py",
   "mimetype": "text/x-python",
   "name": "python",
   "nbconvert_exporter": "python",
   "pygments_lexer": "ipython3",
   "version": "3.9.7"
  }
 },
 "nbformat": 4,
 "nbformat_minor": 5
}
