{
 "cells": [
  {
   "cell_type": "markdown",
   "metadata": {},
   "source": [
    "# SOSTAT 2021\n",
    "## 2nd IAA-CSIC Severo Ochoa School on Statistics, Data Mining, and Machine Learning\n",
    "\n",
    "### A Severo Ochoa School of the Instituto de Astrofísica de Andalucía (CSIC)\n",
    "-----\n",
    "\n",
    "### Workshop Tutorials\n",
    "\n",
    "- Željko Ivezić\n",
    "    - [ZIlecture1: Gentle Introduction to Big Data in Astronomy and Basics](./zeljko/ZIlecture1.ipynb)\n",
    "    - [ZIlecture2: Introduction to ML; density estimation and regression](./zeljko/ZIlecture2.ipynb)\n",
    "- Abigail Stevens\n",
    "    - [boot_jack_workbook](./abigail_bootjack/boot_jack_workbook.ipynb) ([solutions](./abigail_bootjack/boot_jack_solutions.ipynb))\n",
    "    - [time_series_workbook](./abigail_timeseries/time_series_workbook.ipynb) ([solutions](./abigail_timeseries/time_series_solutions.ipynb))"
   ]
  }
 ],
 "metadata": {
  "kernelspec": {
   "display_name": "Python 3",
   "language": "python",
   "name": "python3"
  },
  "language_info": {
   "codemirror_mode": {
    "name": "ipython",
    "version": 3
   },
   "file_extension": ".py",
   "mimetype": "text/x-python",
   "name": "python",
   "nbconvert_exporter": "python",
   "pygments_lexer": "ipython3",
   "version": "3.7.4"
  }
 },
 "nbformat": 4,
 "nbformat_minor": 4
}
